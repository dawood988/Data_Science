{
 "cells": [
  {
   "cell_type": "markdown",
   "id": "450a8623",
   "metadata": {},
   "source": [
    "# Importing the necessary libraries"
   ]
  },
  {
   "cell_type": "code",
   "execution_count": null,
   "id": "f05c4a62",
   "metadata": {},
   "outputs": [],
   "source": [
    "import pandas as pd\n",
    "import numpy as np\n",
    "import matplotlib.pyplot as plt\n",
    "import seaborn as sns\n",
    "from statsmodels.tsa.seasonal import seasonal_decompose\n",
    "from statsmodels.tsa.holtwinters import SimpleExpSmoothing\n",
    "from statsmodels.tsa.holtwinters import Holt\n",
    "from statsmodels.tsa.holtwinters import ExponentialSmoothing\n",
    "import warnings"
   ]
  },
  {
   "cell_type": "code",
   "execution_count": null,
   "id": "f4e6a666",
   "metadata": {},
   "outputs": [],
   "source": [
    "data = pd.read_excel(\"C:\\Excelr assignments\\Assignment 18 Forecasting\\CocaCola_Sales_Rawdata.xlsx\")"
   ]
  },
  {
   "cell_type": "code",
   "execution_count": null,
   "id": "045aac87",
   "metadata": {},
   "outputs": [],
   "source": [
    "data"
   ]
  },
  {
   "cell_type": "code",
   "execution_count": null,
   "id": "764e1b5c",
   "metadata": {},
   "outputs": [],
   "source": [
    "data.Sales.plot()"
   ]
  },
  {
   "cell_type": "markdown",
   "id": "fac94ec1",
   "metadata": {},
   "source": [
    "# Splitting the data"
   ]
  },
  {
   "cell_type": "code",
   "execution_count": null,
   "id": "178f5c61",
   "metadata": {},
   "outputs": [],
   "source": [
    "train = data.head(34)\n",
    "test = data.head(8)"
   ]
  },
  {
   "cell_type": "code",
   "execution_count": null,
   "id": "81a6e23d",
   "metadata": {},
   "outputs": [],
   "source": [
    "test"
   ]
  },
  {
   "cell_type": "code",
   "execution_count": null,
   "id": "ff387ed4",
   "metadata": {},
   "outputs": [],
   "source": [
    "plt.figure(figsize=(10,5))\n",
    "data.Sales.plot(label = 'orgin')\n",
    "for i in range(2,10,2):\n",
    "    data['Sales'].rolling(i).mean().plot(label = str(i))\n",
    "    plt.legend(loc = 'best')"
   ]
  },
  {
   "cell_type": "markdown",
   "id": "37a25f80",
   "metadata": {},
   "source": [
    "# decomposition time series plot"
   ]
  },
  {
   "cell_type": "code",
   "execution_count": null,
   "id": "43a9fe52",
   "metadata": {},
   "outputs": [],
   "source": [
    "decompose_ts_add = seasonal_decompose(data.Sales,period=6)\n",
    "decompose_ts_add.plot()\n",
    "plt.show()"
   ]
  },
  {
   "cell_type": "markdown",
   "id": "ee59b4c7",
   "metadata": {},
   "source": [
    "# ACF  aand PACF plots"
   ]
  },
  {
   "cell_type": "code",
   "execution_count": null,
   "id": "7bb6a63a",
   "metadata": {},
   "outputs": [],
   "source": [
    "from statsmodels.graphics import tsaplots as tsa_plots"
   ]
  },
  {
   "cell_type": "code",
   "execution_count": null,
   "id": "69456285",
   "metadata": {},
   "outputs": [],
   "source": [
    "tsa_plots.plot_acf(data.Sales,lags=20)\n",
    "tsa_plots.plot_pacf(data.Sales, lags=20)\n",
    "plt.show()"
   ]
  },
  {
   "cell_type": "markdown",
   "id": "bb96136d",
   "metadata": {},
   "source": [
    "# Evaluation Metric MAPE"
   ]
  },
  {
   "cell_type": "code",
   "execution_count": null,
   "id": "821edf77",
   "metadata": {},
   "outputs": [],
   "source": [
    "def MAPE(pred,org):\n",
    "    per_error = np.abs((pred-org)/org)*100\n",
    "    return np.mean(per_error)"
   ]
  },
  {
   "cell_type": "markdown",
   "id": "dbb43d5b",
   "metadata": {},
   "source": [
    "# Simple exponential method"
   ]
  },
  {
   "cell_type": "code",
   "execution_count": null,
   "id": "759607a6",
   "metadata": {},
   "outputs": [],
   "source": [
    "ses_model = SimpleExpSmoothing(train['Sales']).fit(smoothing_level=0.4,optimized=False)\n",
    "pred_ses = ses_model.predict(start=test.Sales.index[0], end=test.Sales.index[-1])\n",
    "MAPE(pred_ses,test.Sales)"
   ]
  },
  {
   "cell_type": "markdown",
   "id": "c607ce96",
   "metadata": {},
   "source": [
    "# Holt method"
   ]
  },
  {
   "cell_type": "code",
   "execution_count": null,
   "id": "135f1678",
   "metadata": {},
   "outputs": [],
   "source": [
    "h_model = Holt(train['Sales']).fit()\n",
    "pred_h = h_model.predict(start=test.Sales.index[0],end=test.Sales.index[-1])\n",
    "MAPE(pred_h,test.Sales)"
   ]
  },
  {
   "cell_type": "markdown",
   "id": "47195db7",
   "metadata": {},
   "source": [
    "# Holts winter exponential smoothing with Additive Seasonality and Additive Trend"
   ]
  },
  {
   "cell_type": "code",
   "execution_count": null,
   "id": "f5299420",
   "metadata": {},
   "outputs": [],
   "source": [
    "hwe_model_add_add = ExponentialSmoothing(train['Sales'],seasonal='add', trend='add', seasonal_periods=4)\n",
    "fitted_model = hwe_model_add_add.fit()\n",
    "pred_hwe_add_add = fitted_model.predict(start=test.index[0],end=test.index[-1])\n",
    "MAPE(pred_hwe_add_add,test.Sales)"
   ]
  },
  {
   "cell_type": "markdown",
   "id": "eb7c3a3a",
   "metadata": {},
   "source": [
    "# Holts winter exponential smoothing with Multiplicative Seasonality and Additive Trend"
   ]
  },
  {
   "cell_type": "code",
   "execution_count": null,
   "id": "5bcbc679",
   "metadata": {},
   "outputs": [],
   "source": [
    "hwe_model_mul_add = ExponentialSmoothing(train['Sales'],seasonal='mul', trend='add', seasonal_periods=4)\n",
    "fitted_model1 = hwe_model_add_add.fit()\n",
    "pred_hwe_mul_add = fitted_model.predict(start=test.index[0],end=test.index[-1])\n",
    "MAPE(pred_hwe_add_add,test.Sales)"
   ]
  },
  {
   "cell_type": "markdown",
   "id": "08346f8a",
   "metadata": {},
   "source": [
    "# Final model on whole dataset"
   ]
  },
  {
   "cell_type": "code",
   "execution_count": null,
   "id": "d6ea6aa6",
   "metadata": {},
   "outputs": [],
   "source": [
    "Final_mul_add = ExponentialSmoothing(data['Sales'],seasonal='mul',trend='add',seasonal_periods=4).fit()"
   ]
  },
  {
   "cell_type": "code",
   "execution_count": null,
   "id": "7378954c",
   "metadata": {},
   "outputs": [],
   "source": [
    "# forescasting for next 25 time periods\n",
    "Final_mul_add.forecast(25)"
   ]
  },
  {
   "cell_type": "code",
   "execution_count": null,
   "id": "56d7c775",
   "metadata": {},
   "outputs": [],
   "source": []
  }
 ],
 "metadata": {
  "kernelspec": {
   "display_name": "Python 3 (ipykernel)",
   "language": "python",
   "name": "python3"
  },
  "language_info": {
   "codemirror_mode": {
    "name": "ipython",
    "version": 3
   },
   "file_extension": ".py",
   "mimetype": "text/x-python",
   "name": "python",
   "nbconvert_exporter": "python",
   "pygments_lexer": "ipython3",
   "version": "3.11.5"
  }
 },
 "nbformat": 4,
 "nbformat_minor": 5
}
