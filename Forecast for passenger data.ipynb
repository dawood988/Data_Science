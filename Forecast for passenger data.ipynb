{
 "cells": [
  {
   "cell_type": "markdown",
   "id": "5223888c",
   "metadata": {},
   "source": [
    "# Importing necessary libraries"
   ]
  },
  {
   "cell_type": "code",
   "execution_count": null,
   "id": "0519e838",
   "metadata": {},
   "outputs": [],
   "source": [
    "import pandas as pd\n",
    "import numpy as np\n",
    "import warnings\n",
    "import matplotlib.pyplot as plt\n",
    "import statsmodels.api as sm\n",
    "import itertools"
   ]
  },
  {
   "cell_type": "code",
   "execution_count": null,
   "id": "1ac3dd94",
   "metadata": {},
   "outputs": [],
   "source": [
    "data = pd.read_excel(\"C:\\Excelr assignments\\Assignment 18 Forecasting\\Airlines+Data.xlsx\",parse_dates=True,header=0,index_col=0)"
   ]
  },
  {
   "cell_type": "code",
   "execution_count": null,
   "id": "e5ef33c1",
   "metadata": {},
   "outputs": [],
   "source": [
    "data"
   ]
  },
  {
   "cell_type": "code",
   "execution_count": null,
   "id": "3e8e0b13",
   "metadata": {},
   "outputs": [],
   "source": [
    "data.plot()\n",
    "plt.show()"
   ]
  },
  {
   "cell_type": "code",
   "execution_count": null,
   "id": "34cedeea",
   "metadata": {},
   "outputs": [],
   "source": [
    "data.hist()"
   ]
  },
  {
   "cell_type": "code",
   "execution_count": null,
   "id": "b3b959a3",
   "metadata": {},
   "outputs": [],
   "source": [
    "data.plot(kind =\"kde\")"
   ]
  },
  {
   "cell_type": "code",
   "execution_count": null,
   "id": "07ee8a4a",
   "metadata": {},
   "outputs": [],
   "source": [
    "#sapereate out a validation dataset\n",
    "split_point = len(data) - 10\n",
    "dataset,validation = data[0:split_point],data[split_point:]\n",
    "print('Dataset %d , Validation %d '%(len(dataset),len(validation)))\n",
    "dataset.to_csv('dataset.csv',header=False)\n",
    "validation.to_csv('validation.csv',header=False)"
   ]
  },
  {
   "cell_type": "code",
   "execution_count": null,
   "id": "4af52025",
   "metadata": {},
   "outputs": [],
   "source": [
    "#Evaluate a persistance model\n",
    "from sklearn.metrics import mean_squared_error\n",
    "from math import sqrt\n",
    "#loading the datastet as train data\n",
    "train = pd.read_csv('dataset.csv',header=None,index_col=0,parse_dates=True,squeeze=True)\n",
    "x = train.values\n",
    "x = x.astype('float32')\n",
    "train_size = int(len(x)*0.50)\n",
    "train,test = x[0:train_size],x[train_size:]"
   ]
  },
  {
   "cell_type": "code",
   "execution_count": null,
   "id": "52163266",
   "metadata": {},
   "outputs": [],
   "source": [
    "# forword validation\n",
    "history = [x for x in train]\n",
    "predictions = list()\n",
    "for i in range (len(test)):\n",
    "    yhat = history[-1]\n",
    "    predictions.append(yhat)\n",
    "    #observation\n",
    "    obs = test [i]\n",
    "    history.append(obs)\n",
    "    print('>Predictioned=%.3f , Expected=%.3f' %(yhat,obs))\n",
    "#report performance\n",
    "rmse = sqrt(mean_squared_error(test,predictions))\n",
    "print('RMSE: %.f' % rmse)"
   ]
  },
  {
   "cell_type": "code",
   "execution_count": null,
   "id": "1100295c",
   "metadata": {},
   "outputs": [],
   "source": [
    "from statsmodels.tsa.arima.model import ARIMA\n",
    "from sklearn.metrics import mean_squared_error\n",
    "import numpy as np\n",
    "\n",
    "def evaluate_arima_model(train, order):\n",
    "    history = [x for x in train]\n",
    "    predictions = []\n",
    "    for t in range(len(test)):\n",
    "        model = ARIMA(history, order=order)\n",
    "        model_fit = model.fit()\n",
    "        yhat = model_fit.forecast()[0]\n",
    "        predictions.append(yhat)\n",
    "        history.append(test[t])\n",
    "    rmse = np.sqrt(mean_squared_error(test, predictions))\n",
    "    return rmse\n"
   ]
  },
  {
   "cell_type": "code",
   "execution_count": null,
   "id": "dea89090",
   "metadata": {},
   "outputs": [],
   "source": [
    "def evaluate_model(dataset, p_values, d_values, q_values):\n",
    "    dataset = dataset.astype('float32')\n",
    "    best_score, best_cfg = float('inf'), None\n",
    "    for p in p_values:\n",
    "        for d in d_values:\n",
    "            for q in q_values:\n",
    "                order = (p, d, q)\n",
    "                try:\n",
    "                    rmse = evaluate_arima_model(dataset, order)\n",
    "                    if rmse < best_score:\n",
    "                        best_score, best_cfg = rmse, order\n",
    "                    print('ARIMA%s RMSE = %.3f' % (order, rmse))\n",
    "                except:\n",
    "                    continue\n",
    "    print('Best ARIMA%s RMSE = %.3f' % (best_cfg, best_score))\n"
   ]
  },
  {
   "cell_type": "code",
   "execution_count": null,
   "id": "3c04240e",
   "metadata": {},
   "outputs": [],
   "source": [
    "#load data\n",
    "train = pd.read_csv('dataset.csv',header=None, index_col=0, parse_dates=True ,squeeze=True)\n",
    "#evaluate parameters\n",
    "p_values = range(0 , 3)\n",
    "d_values = range(0 , 3)\n",
    "q_values = range(0 , 3)\n",
    "warnings.filterwarnings('ignore')\n",
    "evaluate_model(train.values,p_values,d_values,q_values)"
   ]
  },
  {
   "cell_type": "code",
   "execution_count": null,
   "id": "77214f8b",
   "metadata": {},
   "outputs": [],
   "source": [
    "#load the dataset\n",
    "train = pd.read_csv('dataset.csv',header=0,index_col=0,parse_dates=True)\n",
    "#prepare data\n",
    "x = train.values\n",
    "x = x.astype('float32')"
   ]
  },
  {
   "cell_type": "code",
   "execution_count": null,
   "id": "052d55ab",
   "metadata": {},
   "outputs": [],
   "source": [
    "#fit the model\n",
    "model = ARIMA(x, order=(2, 0, 2))\n",
    "model_fit = model.fit()\n",
    "forecast = model_fit.forecast(steps=10)[0]\n",
    "model_fit.predict(1,90)"
   ]
  },
  {
   "cell_type": "markdown",
   "id": "5989f962",
   "metadata": {},
   "source": [
    "# Final model by train and test "
   ]
  },
  {
   "cell_type": "code",
   "execution_count": null,
   "id": "81f205e4",
   "metadata": {},
   "outputs": [],
   "source": [
    "data = pd.read_excel(\"C:\\Excelr assignments\\Assignment 18 Forecasting\\Airlines+Data.xlsx\",parse_dates=True,header=0,index_col=0)\n",
    "#prepare data\n",
    "x = data.values\n",
    "x = x.astype('float32')"
   ]
  },
  {
   "cell_type": "code",
   "execution_count": null,
   "id": "5053c42c",
   "metadata": {},
   "outputs": [],
   "source": [
    "model = ARIMA(x, order=(2, 0, 2))\n",
    "model_fit = model.fit()\n",
    "forecast = model_fit.forecast(steps=10)[0]\n",
    "model_fit.predict(1,90)"
   ]
  },
  {
   "cell_type": "code",
   "execution_count": null,
   "id": "08cec836",
   "metadata": {},
   "outputs": [],
   "source": []
  }
 ],
 "metadata": {
  "kernelspec": {
   "display_name": "Python 3 (ipykernel)",
   "language": "python",
   "name": "python3"
  },
  "language_info": {
   "codemirror_mode": {
    "name": "ipython",
    "version": 3
   },
   "file_extension": ".py",
   "mimetype": "text/x-python",
   "name": "python",
   "nbconvert_exporter": "python",
   "pygments_lexer": "ipython3",
   "version": "3.11.5"
  }
 },
 "nbformat": 4,
 "nbformat_minor": 5
}
