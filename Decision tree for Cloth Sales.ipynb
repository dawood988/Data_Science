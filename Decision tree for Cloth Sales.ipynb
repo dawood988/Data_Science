{
 "cells": [
  {
   "cell_type": "markdown",
   "id": "150269a0",
   "metadata": {},
   "source": [
    "# Decision Tree Algorithm "
   ]
  },
  {
   "cell_type": "markdown",
   "id": "ed4cac94",
   "metadata": {},
   "source": [
    "# Importing the libraries"
   ]
  },
  {
   "cell_type": "code",
   "execution_count": null,
   "id": "62004c00",
   "metadata": {},
   "outputs": [],
   "source": [
    "import pandas as pd\n",
    "import numpy as np\n",
    "import matplotlib.pyplot as plt\n",
    "from sklearn.model_selection import train_test_split\n",
    "from sklearn.preprocessing import LabelEncoder\n",
    "from sklearn.tree import DecisionTreeRegressor\n",
    "from sklearn import tree\n",
    "from sklearn.metrics import classification_report"
   ]
  },
  {
   "cell_type": "markdown",
   "id": "e7859664",
   "metadata": {},
   "source": [
    "# Load the Dataset"
   ]
  },
  {
   "cell_type": "code",
   "execution_count": null,
   "id": "b0495eb4",
   "metadata": {},
   "outputs": [],
   "source": [
    "df = pd.read_csv(\"C:\\Excelr assignments\\Assignment 12 Decision Tree\\Company_Data.csv\")"
   ]
  },
  {
   "cell_type": "code",
   "execution_count": null,
   "id": "2f207d57",
   "metadata": {},
   "outputs": [],
   "source": [
    "df"
   ]
  },
  {
   "cell_type": "markdown",
   "id": "e33ff9ff",
   "metadata": {},
   "source": [
    "# Apply Exploratory data analysis for the Dataset"
   ]
  },
  {
   "cell_type": "code",
   "execution_count": null,
   "id": "d31191a0",
   "metadata": {},
   "outputs": [],
   "source": [
    "df.head(20)"
   ]
  },
  {
   "cell_type": "code",
   "execution_count": null,
   "id": "0f49cbd3",
   "metadata": {},
   "outputs": [],
   "source": [
    "df.info()"
   ]
  },
  {
   "cell_type": "code",
   "execution_count": null,
   "id": "7443cfed",
   "metadata": {},
   "outputs": [],
   "source": [
    "df.describe()"
   ]
  },
  {
   "cell_type": "code",
   "execution_count": null,
   "id": "74236722",
   "metadata": {},
   "outputs": [],
   "source": [
    "label_encoder = LabelEncoder()"
   ]
  },
  {
   "cell_type": "code",
   "execution_count": null,
   "id": "c93005ff",
   "metadata": {},
   "outputs": [],
   "source": [
    "df['ShelveLoc'] = label_encoder.fit_transform(df['ShelveLoc'])\n",
    "df['Urban'] = label_encoder.fit_transform(df['Urban'])\n",
    "df['US'] = label_encoder.fit_transform(df['US'])"
   ]
  },
  {
   "cell_type": "code",
   "execution_count": null,
   "id": "60e059d1",
   "metadata": {},
   "outputs": [],
   "source": [
    "df"
   ]
  },
  {
   "cell_type": "code",
   "execution_count": null,
   "id": "a7adc32b",
   "metadata": {},
   "outputs": [],
   "source": [
    "x = df.iloc[:,1:11]\n",
    "y =df.iloc[:,0:1]"
   ]
  },
  {
   "cell_type": "code",
   "execution_count": null,
   "id": "b4556ebf",
   "metadata": {},
   "outputs": [],
   "source": [
    "x"
   ]
  },
  {
   "cell_type": "code",
   "execution_count": null,
   "id": "2a0aa298",
   "metadata": {},
   "outputs": [],
   "source": [
    "y"
   ]
  },
  {
   "cell_type": "markdown",
   "id": "0deb8c82",
   "metadata": {},
   "source": [
    "# Splitting the Data into train and test split"
   ]
  },
  {
   "cell_type": "code",
   "execution_count": null,
   "id": "98611ff6",
   "metadata": {},
   "outputs": [],
   "source": [
    "x_train, x_test, y_train, y_test = train_test_split(x,y,test_size=0.33,random_state=20)"
   ]
  },
  {
   "cell_type": "markdown",
   "id": "51160833",
   "metadata": {},
   "source": [
    "# Building the Decision Tree Model Using Entropy "
   ]
  },
  {
   "cell_type": "code",
   "execution_count": null,
   "id": "db1c3e71",
   "metadata": {},
   "outputs": [],
   "source": [
    "model = DecisionTreeRegressor(criterion='absolute_error',max_depth=5,random_state=20,splitter='best')"
   ]
  },
  {
   "cell_type": "markdown",
   "id": "71763d3f",
   "metadata": {},
   "source": [
    "# Fit the Model for Training Data"
   ]
  },
  {
   "cell_type": "code",
   "execution_count": null,
   "id": "e18c2619",
   "metadata": {},
   "outputs": [],
   "source": [
    "model.fit(x_train,y_train)"
   ]
  },
  {
   "cell_type": "code",
   "execution_count": null,
   "id": "71e7b248",
   "metadata": {},
   "outputs": [],
   "source": [
    "tree.plot_tree(model)"
   ]
  },
  {
   "cell_type": "code",
   "execution_count": null,
   "id": "ab933387",
   "metadata": {},
   "outputs": [],
   "source": [
    "fn = ['CompPrice','Income','Advertising','Population','Price','ShelveLoc','Age','Education','Urban','US']\n",
    "cn = ['Sales']\n",
    "fig, axis = plt.subplots(nrows=1,ncols=1,figsize = (6,3),dpi = 300)\n",
    "tree.plot_tree(model,feature_names=fn,class_names=cn,filled=True)"
   ]
  },
  {
   "cell_type": "markdown",
   "id": "e3d6ad0c",
   "metadata": {},
   "source": [
    "# Predicting for the test data"
   ]
  },
  {
   "cell_type": "code",
   "execution_count": null,
   "id": "6606dcdb",
   "metadata": {},
   "outputs": [],
   "source": [
    "preds = model.predict(x_test)"
   ]
  },
  {
   "cell_type": "markdown",
   "id": "f33e86f4",
   "metadata": {},
   "source": [
    "# Accuracy of model"
   ]
  },
  {
   "cell_type": "code",
   "execution_count": null,
   "id": "2c534bd5",
   "metadata": {},
   "outputs": [],
   "source": [
    "model.score(x_test,y_test)"
   ]
  },
  {
   "cell_type": "code",
   "execution_count": null,
   "id": "fa63123d",
   "metadata": {},
   "outputs": [],
   "source": []
  },
  {
   "cell_type": "code",
   "execution_count": null,
   "id": "49ec7c34",
   "metadata": {},
   "outputs": [],
   "source": []
  }
 ],
 "metadata": {
  "kernelspec": {
   "display_name": "Python 3 (ipykernel)",
   "language": "python",
   "name": "python3"
  },
  "language_info": {
   "codemirror_mode": {
    "name": "ipython",
    "version": 3
   },
   "file_extension": ".py",
   "mimetype": "text/x-python",
   "name": "python",
   "nbconvert_exporter": "python",
   "pygments_lexer": "ipython3",
   "version": "3.11.5"
  }
 },
 "nbformat": 4,
 "nbformat_minor": 5
}
